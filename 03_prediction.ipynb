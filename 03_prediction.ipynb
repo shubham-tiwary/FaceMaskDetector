{
 "cells": [
  {
   "cell_type": "code",
   "execution_count": 1,
   "id": "dc8b78c2",
   "metadata": {},
   "outputs": [],
   "source": [
    "import numpy as np\n",
    "import cv2\n",
    "import tensorflow as tf"
   ]
  },
  {
   "cell_type": "code",
   "execution_count": 28,
   "id": "c7de1945",
   "metadata": {},
   "outputs": [],
   "source": [
    "from scipy.special import softmax"
   ]
  },
  {
   "cell_type": "code",
   "execution_count": 8,
   "id": "0320ebab",
   "metadata": {},
   "outputs": [],
   "source": [
    "# face detection model\n",
    "face_detection_model = cv2.dnn.readNetFromCaffe('./models/deploy.prototxt.txt',\n",
    "                                                './models/res10_300x300_ssd_iter_140000_fp16.caffemodel')\n",
    "# face mask recognition model\n",
    "model = tf.keras.models.load_model('face_cnn_model/')"
   ]
  },
  {
   "cell_type": "code",
   "execution_count": 3,
   "id": "57fcbdb0",
   "metadata": {},
   "outputs": [],
   "source": [
    "# label \n",
    "labels = ['Mask', 'No Mask', 'Covered Mouth Chin', 'Covered Nose Mouth']\n",
    "\n",
    "\n",
    "def getColor(label):\n",
    "    if label == \"Mask\":\n",
    "        color = (0,255,0)\n",
    "\n",
    "    elif label == 'No Mask':\n",
    "        color = (0,0,255)\n",
    "    elif label == 'Covered Mouth Chin':\n",
    "        color = (0,255,255)\n",
    "    else:\n",
    "        color = (255,255,0)\n",
    "        \n",
    "    return color"
   ]
  },
  {
   "cell_type": "code",
   "execution_count": 6,
   "id": "fe25d8e1",
   "metadata": {},
   "outputs": [
    {
     "data": {
      "text/plain": [
       "(255, 255, 0)"
      ]
     },
     "execution_count": 6,
     "metadata": {},
     "output_type": "execute_result"
    }
   ],
   "source": [
    "getColor('Covered Nose Mouth')"
   ]
  },
  {
   "cell_type": "code",
   "execution_count": 40,
   "id": "7b6de088",
   "metadata": {},
   "outputs": [],
   "source": [
    "def face_mask_prediction(img):\n",
    "    # step - 1 : face detection\n",
    "    image = img.copy()\n",
    "    h, w = image.shape[:2]\n",
    "    blob = cv2.dnn.blobFromImage(image,1,(300,300),(104,117,123),swapRB=True)\n",
    "    # \n",
    "    face_detection_model.setInput(blob)\n",
    "    detection = face_detection_model.forward() # it will give the detection\n",
    "    for i in range(0,detection.shape[2]):\n",
    "        confidence = detection[0,0,i,2]\n",
    "        if confidence > 0.5:\n",
    "            box = detection[0,0,i,3:7]*np.array([w,h,w,h])\n",
    "            box = box.astype(int)\n",
    "            pt1 = (box[0], box[1])\n",
    "            pt2 = (box[2], box[3])\n",
    "            # cv2.rectangle(image,pt1,pt2,(0,255,0),1)\n",
    "\n",
    "            # step -2: Data preprocessing\n",
    "            face = image[box[1]:box[3],box[0]:box[2]]\n",
    "            face_blob = cv2.dnn.blobFromImage(face,1,(100,100),(104,117,123),swapRB=True)\n",
    "            face_blob_squeeze = np.squeeze(face_blob).T\n",
    "            face_blob_rotate = cv2.rotate(face_blob_squeeze,cv2.ROTATE_90_CLOCKWISE)\n",
    "            face_blob_flip = cv2.flip(face_blob_rotate,1)\n",
    "            # normalization\n",
    "            img_norm = np.maximum(face_blob_flip,0)/face_blob_flip.max()\n",
    "            # step-3: Deep Learning (CNN)\n",
    "            img_input = img_norm.reshape(1,100,100,3)\n",
    "            result = model.predict(img_input)\n",
    "            result = softmax(result)[0]\n",
    "            confidence_index = result.argmax()\n",
    "            confidence_score = result[confidence_index]\n",
    "            label = labels[confidence_index]\n",
    "            label_text = '{}: {:,.0f} %'.format(label,confidence_score*100)\n",
    "            #print(label_text)\n",
    "            # color\n",
    "            color = getColor(label)\n",
    "            cv2.rectangle(image,pt1,pt2,color,1)\n",
    "            cv2.putText(image,label_text,pt1,cv2.FONT_HERSHEY_PLAIN,2,color,2)\n",
    "            \n",
    "    return image\n",
    "\n"
   ]
  },
  {
   "cell_type": "code",
   "execution_count": 42,
   "id": "ddf4c3a6",
   "metadata": {},
   "outputs": [],
   "source": [
    "# recognition code\n",
    "img = cv2.imread('./women-wearing-mask.jpg')\n",
    "\n",
    "image = face_mask_prediction(img)\n",
    "\n",
    "\n",
    "cv2.imshow('predictions',image)\n",
    "cv2.waitKey()\n",
    "cv2.destroyAllWindows()"
   ]
  },
  {
   "cell_type": "markdown",
   "id": "8f530a11",
   "metadata": {},
   "source": [
    "# Real time Face Mask Detection"
   ]
  },
  {
   "cell_type": "code",
   "execution_count": 44,
   "id": "977de4db",
   "metadata": {},
   "outputs": [],
   "source": [
    "cap = cv2.VideoCapture(0)\n",
    "\n",
    "while True:\n",
    "    ret, frames = cap.read()\n",
    "    if ret == False:\n",
    "        break\n",
    "        \n",
    "    image = face_mask_prediction(frames)\n",
    "    cv2.imshow('Face Mask Prediction',image)\n",
    "    if cv2.waitKey(1) == 27:\n",
    "        break\n",
    "        \n",
    "cap.release()\n",
    "cv2.destroyAllWindows()"
   ]
  },
  {
   "cell_type": "code",
   "execution_count": null,
   "id": "5f79278a",
   "metadata": {},
   "outputs": [],
   "source": []
  },
  {
   "cell_type": "code",
   "execution_count": null,
   "id": "58765612",
   "metadata": {},
   "outputs": [],
   "source": []
  },
  {
   "cell_type": "code",
   "execution_count": null,
   "id": "6bca80a0",
   "metadata": {},
   "outputs": [],
   "source": []
  },
  {
   "cell_type": "code",
   "execution_count": null,
   "id": "92de7e30",
   "metadata": {},
   "outputs": [],
   "source": []
  },
  {
   "cell_type": "code",
   "execution_count": null,
   "id": "65338283",
   "metadata": {},
   "outputs": [],
   "source": []
  },
  {
   "cell_type": "code",
   "execution_count": null,
   "id": "2fa5f506",
   "metadata": {},
   "outputs": [],
   "source": []
  },
  {
   "cell_type": "code",
   "execution_count": null,
   "id": "e96f5ea8",
   "metadata": {},
   "outputs": [],
   "source": []
  },
  {
   "cell_type": "code",
   "execution_count": null,
   "id": "3936b61f",
   "metadata": {},
   "outputs": [],
   "source": []
  },
  {
   "cell_type": "code",
   "execution_count": null,
   "id": "700a027b",
   "metadata": {},
   "outputs": [],
   "source": []
  }
 ],
 "metadata": {
  "kernelspec": {
   "display_name": "Python 3 (ipykernel)",
   "language": "python",
   "name": "python3"
  },
  "language_info": {
   "codemirror_mode": {
    "name": "ipython",
    "version": 3
   },
   "file_extension": ".py",
   "mimetype": "text/x-python",
   "name": "python",
   "nbconvert_exporter": "python",
   "pygments_lexer": "ipython3",
   "version": "3.9.6"
  }
 },
 "nbformat": 4,
 "nbformat_minor": 5
}
