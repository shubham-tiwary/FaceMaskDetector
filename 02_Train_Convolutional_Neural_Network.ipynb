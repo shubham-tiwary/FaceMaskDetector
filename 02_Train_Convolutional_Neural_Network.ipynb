{
 "cells": [
  {
   "cell_type": "markdown",
   "id": "8336da7d",
   "metadata": {},
   "source": [
    "## Train Deep Learning Model"
   ]
  },
  {
   "cell_type": "markdown",
   "id": "50227054",
   "metadata": {},
   "source": [
    "### Loading the preprocessed Data"
   ]
  },
  {
   "cell_type": "code",
   "execution_count": 1,
   "id": "a311b6b3",
   "metadata": {},
   "outputs": [],
   "source": [
    "import os\n",
    "import numpy as np\n",
    "import cv2\n",
    "import gc"
   ]
  },
  {
   "cell_type": "code",
   "execution_count": 2,
   "id": "c5c4bde5",
   "metadata": {},
   "outputs": [],
   "source": [
    "# load the preprocessed data\n",
    "data = np.load('./data/data_preprocess.npz')"
   ]
  },
  {
   "cell_type": "code",
   "execution_count": 3,
   "id": "949e8123",
   "metadata": {},
   "outputs": [],
   "source": [
    "X = data['arr_0']\n",
    "y = data['arr_1']"
   ]
  },
  {
   "cell_type": "code",
   "execution_count": 4,
   "id": "8e4558e4",
   "metadata": {},
   "outputs": [
    {
     "data": {
      "text/plain": [
       "((9959, 100, 100, 3), (9959,))"
      ]
     },
     "execution_count": 4,
     "metadata": {},
     "output_type": "execute_result"
    }
   ],
   "source": [
    "X.shape, y.shape"
   ]
  },
  {
   "cell_type": "markdown",
   "id": "3bf84e28",
   "metadata": {},
   "source": [
    "### Preprocessing \"y\""
   ]
  },
  {
   "cell_type": "code",
   "execution_count": 5,
   "id": "d704e6ac",
   "metadata": {},
   "outputs": [
    {
     "data": {
      "text/plain": [
       "array(['Mask', 'Mask_Chin', 'Mask_Mouth_Chin', 'Mask_Nose_Mouth'],\n",
       "      dtype='<U15')"
      ]
     },
     "execution_count": 5,
     "metadata": {},
     "output_type": "execute_result"
    }
   ],
   "source": [
    "np.unique(y)"
   ]
  },
  {
   "cell_type": "markdown",
   "id": "a89136eb",
   "metadata": {},
   "source": [
    "We cannot feed the same data to our model, we need to pre-process it. We will use One-Hot encoding format here"
   ]
  },
  {
   "cell_type": "code",
   "execution_count": 6,
   "id": "bc63d572",
   "metadata": {},
   "outputs": [],
   "source": [
    "from sklearn.preprocessing import OneHotEncoder"
   ]
  },
  {
   "cell_type": "code",
   "execution_count": 7,
   "id": "dd8951e8",
   "metadata": {},
   "outputs": [],
   "source": [
    "onehot = OneHotEncoder()\n",
    "y_onehot = onehot.fit_transform(y.reshape(-1,1))"
   ]
  },
  {
   "cell_type": "code",
   "execution_count": 8,
   "id": "ca569741",
   "metadata": {},
   "outputs": [],
   "source": [
    "y_array = y_onehot.toarray()"
   ]
  },
  {
   "cell_type": "markdown",
   "id": "08798255",
   "metadata": {},
   "source": [
    "### Split the Data into Train and Test sets"
   ]
  },
  {
   "cell_type": "code",
   "execution_count": 9,
   "id": "eea32408",
   "metadata": {},
   "outputs": [],
   "source": [
    "from sklearn.model_selection import train_test_split\n",
    "x_train, x_test, y_train, y_test = train_test_split(X,y_array,test_size=0.2,random_state=42)"
   ]
  },
  {
   "cell_type": "code",
   "execution_count": 10,
   "id": "40129ec5",
   "metadata": {},
   "outputs": [
    {
     "data": {
      "text/plain": [
       "((7967, 100, 100, 3), (1992, 100, 100, 3), (7967, 4), (1992, 4))"
      ]
     },
     "execution_count": 10,
     "metadata": {},
     "output_type": "execute_result"
    }
   ],
   "source": [
    "x_train.shape, x_test.shape, y_train.shape, y_test.shape"
   ]
  },
  {
   "cell_type": "markdown",
   "id": "1f9b4293",
   "metadata": {},
   "source": [
    "### Deep Learning Model"
   ]
  },
  {
   "cell_type": "markdown",
   "id": "4dd7c71f",
   "metadata": {},
   "source": [
    "![cnn](cnn.png)"
   ]
  },
  {
   "cell_type": "code",
   "execution_count": 11,
   "id": "ec3197eb",
   "metadata": {},
   "outputs": [
    {
     "data": {
      "text/plain": [
       "array([[0., 0., 1., 0.],\n",
       "       [0., 0., 0., 1.],\n",
       "       [0., 0., 0., 1.],\n",
       "       ...,\n",
       "       [0., 0., 1., 0.],\n",
       "       [1., 0., 0., 0.],\n",
       "       [0., 0., 1., 0.]])"
      ]
     },
     "execution_count": 11,
     "metadata": {},
     "output_type": "execute_result"
    }
   ],
   "source": [
    "y_train"
   ]
  },
  {
   "cell_type": "code",
   "execution_count": 12,
   "id": "05ad97c2",
   "metadata": {},
   "outputs": [],
   "source": [
    "cv2.imshow('a',x_train[-2])\n",
    "cv2.waitKey()\n",
    "cv2.destroyAllWindows()"
   ]
  },
  {
   "cell_type": "code",
   "execution_count": 13,
   "id": "309cbc21",
   "metadata": {},
   "outputs": [],
   "source": [
    "import tensorflow as tf\n",
    "from tensorflow.keras import layers\n",
    "from tensorflow.keras import Sequential"
   ]
  },
  {
   "cell_type": "code",
   "execution_count": 14,
   "id": "bfc34898",
   "metadata": {},
   "outputs": [],
   "source": [
    "# convolution neural network\n",
    "\n",
    "model = Sequential([\n",
    "    layers.Conv2D(16,3,padding='same',input_shape=(100,100,3),activation='relu'),\n",
    "    layers.MaxPool2D(),\n",
    "    layers.Conv2D(32,3,padding='same',activation='relu'),\n",
    "    layers.MaxPool2D(),\n",
    "    layers.Conv2D(64,3,padding='same',activation='relu'),\n",
    "    layers.MaxPool2D(),\n",
    "    layers.Flatten(),\n",
    "    layers.Dense(192,activation='relu'),\n",
    "    layers.Dense(28,activation='relu'),\n",
    "    layers.Dense(4,activation='sigmoid')\n",
    "])\n",
    "\n",
    "\n",
    "# compiling CNN\n",
    "model.compile(optimizer=tf.keras.optimizers.Adam(learning_rate=0.001),\n",
    "              loss=tf.keras.losses.categorical_crossentropy,metrics=['accuracy'])"
   ]
  },
  {
   "cell_type": "code",
   "execution_count": 15,
   "id": "6a67e474",
   "metadata": {},
   "outputs": [
    {
     "name": "stdout",
     "output_type": "stream",
     "text": [
      "Model: \"sequential\"\n",
      "_________________________________________________________________\n",
      "Layer (type)                 Output Shape              Param #   \n",
      "=================================================================\n",
      "conv2d (Conv2D)              (None, 100, 100, 16)      448       \n",
      "_________________________________________________________________\n",
      "max_pooling2d (MaxPooling2D) (None, 50, 50, 16)        0         \n",
      "_________________________________________________________________\n",
      "conv2d_1 (Conv2D)            (None, 50, 50, 32)        4640      \n",
      "_________________________________________________________________\n",
      "max_pooling2d_1 (MaxPooling2 (None, 25, 25, 32)        0         \n",
      "_________________________________________________________________\n",
      "conv2d_2 (Conv2D)            (None, 25, 25, 64)        18496     \n",
      "_________________________________________________________________\n",
      "max_pooling2d_2 (MaxPooling2 (None, 12, 12, 64)        0         \n",
      "_________________________________________________________________\n",
      "flatten (Flatten)            (None, 9216)              0         \n",
      "_________________________________________________________________\n",
      "dense (Dense)                (None, 192)               1769664   \n",
      "_________________________________________________________________\n",
      "dense_1 (Dense)              (None, 28)                5404      \n",
      "_________________________________________________________________\n",
      "dense_2 (Dense)              (None, 4)                 116       \n",
      "=================================================================\n",
      "Total params: 1,798,768\n",
      "Trainable params: 1,798,768\n",
      "Non-trainable params: 0\n",
      "_________________________________________________________________\n"
     ]
    }
   ],
   "source": [
    "model.summary()"
   ]
  },
  {
   "cell_type": "code",
   "execution_count": 16,
   "id": "4c85f95b",
   "metadata": {},
   "outputs": [
    {
     "name": "stdout",
     "output_type": "stream",
     "text": [
      "Epoch 1/20\n",
      "266/266 [==============================] - 48s 178ms/step - loss: 0.2221 - accuracy: 0.9219 - val_loss: 0.1336 - val_accuracy: 0.9644\n",
      "Epoch 2/20\n",
      "266/266 [==============================] - 48s 179ms/step - loss: 0.0691 - accuracy: 0.9769 - val_loss: 0.0779 - val_accuracy: 0.9744\n",
      "Epoch 3/20\n",
      "266/266 [==============================] - 47s 175ms/step - loss: 0.0486 - accuracy: 0.9829 - val_loss: 0.0559 - val_accuracy: 0.9794\n",
      "Epoch 4/20\n",
      "266/266 [==============================] - 46s 171ms/step - loss: 0.0328 - accuracy: 0.9882 - val_loss: 0.0614 - val_accuracy: 0.9819\n",
      "Epoch 5/20\n",
      "266/266 [==============================] - 46s 174ms/step - loss: 0.0198 - accuracy: 0.9936 - val_loss: 0.0382 - val_accuracy: 0.9890\n",
      "Epoch 6/20\n",
      "266/266 [==============================] - 49s 183ms/step - loss: 0.0167 - accuracy: 0.9938 - val_loss: 0.0439 - val_accuracy: 0.9885\n",
      "Epoch 7/20\n",
      "266/266 [==============================] - 47s 175ms/step - loss: 0.0084 - accuracy: 0.9975 - val_loss: 0.0771 - val_accuracy: 0.9829\n",
      "Epoch 8/20\n",
      "266/266 [==============================] - 44s 167ms/step - loss: 0.0185 - accuracy: 0.9946 - val_loss: 0.0441 - val_accuracy: 0.9844\n",
      "Epoch 9/20\n",
      "266/266 [==============================] - 47s 179ms/step - loss: 0.0150 - accuracy: 0.9955 - val_loss: 0.0546 - val_accuracy: 0.9864\n",
      "Epoch 10/20\n",
      "266/266 [==============================] - 44s 167ms/step - loss: 0.0020 - accuracy: 0.9996 - val_loss: 0.0424 - val_accuracy: 0.9900\n",
      "Epoch 11/20\n",
      "266/266 [==============================] - 45s 169ms/step - loss: 0.0081 - accuracy: 0.9979 - val_loss: 0.0594 - val_accuracy: 0.9869\n",
      "Epoch 12/20\n",
      "266/266 [==============================] - 45s 170ms/step - loss: 0.0126 - accuracy: 0.9960 - val_loss: 0.0945 - val_accuracy: 0.9774\n",
      "Epoch 13/20\n",
      "266/266 [==============================] - 47s 176ms/step - loss: 0.0056 - accuracy: 0.9977 - val_loss: 0.0616 - val_accuracy: 0.9824\n",
      "Epoch 14/20\n",
      "266/266 [==============================] - 44s 165ms/step - loss: 4.0158e-04 - accuracy: 1.0000 - val_loss: 0.0655 - val_accuracy: 0.9895\n",
      "Epoch 15/20\n",
      "266/266 [==============================] - 46s 173ms/step - loss: 4.4580e-05 - accuracy: 1.0000 - val_loss: 0.0668 - val_accuracy: 0.9885\n",
      "Epoch 16/20\n",
      "266/266 [==============================] - 48s 179ms/step - loss: 2.6327e-05 - accuracy: 1.0000 - val_loss: 0.0691 - val_accuracy: 0.9890\n",
      "Epoch 17/20\n",
      "266/266 [==============================] - 44s 167ms/step - loss: 1.9631e-05 - accuracy: 1.0000 - val_loss: 0.0710 - val_accuracy: 0.9890\n",
      "Epoch 18/20\n",
      "266/266 [==============================] - 50s 188ms/step - loss: 1.5100e-05 - accuracy: 1.0000 - val_loss: 0.0727 - val_accuracy: 0.9890\n",
      "Epoch 19/20\n",
      "266/266 [==============================] - 57s 215ms/step - loss: 1.1924e-05 - accuracy: 1.0000 - val_loss: 0.0745 - val_accuracy: 0.9890\n",
      "Epoch 20/20\n",
      "266/266 [==============================] - 55s 206ms/step - loss: 9.5248e-06 - accuracy: 1.0000 - val_loss: 0.0757 - val_accuracy: 0.9890\n"
     ]
    }
   ],
   "source": [
    "# Training CNN\n",
    "history = model.fit(x=x_train,y=y_train,validation_data=(x_test,y_test),batch_size=30,epochs=20)"
   ]
  },
  {
   "cell_type": "code",
   "execution_count": 21,
   "id": "7f17d44e",
   "metadata": {},
   "outputs": [
    {
     "data": {
      "image/png": "[encoded data removed]",
      "text/plain": [
       "<Figure size 432x288 with 1 Axes>"
      ]
     },
     "metadata": {
      "needs_background": "light"
     },
     "output_type": "display_data"
    },
    {
     "data": {
      "image/png": "[encoded data removed]",
      "text/plain": [
       "<Figure size 432x288 with 1 Axes>"
      ]
     },
     "metadata": {
      "needs_background": "light"
     },
     "output_type": "display_data"
    }
   ],
   "source": [
    "import pandas as pd\n",
    "import matplotlib.pyplot as plt\n",
    "\n",
    "history_df = pd.DataFrame(history.history)\n",
    "\n",
    "history_df\n",
    "\n",
    "history_df[['loss','val_loss']].plot(kind='line')\n",
    "plt.xlabel('Epochs')\n",
    "plt.ylabel('Loss')\n",
    "plt.xticks(list(range(10)),list(range(1,11)))\n",
    "plt.show()\n",
    "\n",
    "history_df[['accuracy','val_accuracy']].plot(kind='line')\n",
    "plt.xlabel('Epochs')\n",
    "plt.ylabel('Accuracy')\n",
    "plt.xticks(list(range(10)),list(range(1,11)))\n",
    "plt.show()\n",
    "\n"
   ]
  },
  {
   "cell_type": "code",
   "execution_count": null,
   "id": "7f038576",
   "metadata": {},
   "outputs": [],
   "source": []
  },
  {
   "cell_type": "code",
   "execution_count": 22,
   "id": "f2644c9d",
   "metadata": {},
   "outputs": [
    {
     "name": "stdout",
     "output_type": "stream",
     "text": [
      "INFO:tensorflow:Assets written to: face_cnn_model\\assets\n"
     ]
    }
   ],
   "source": [
    "# Save CNN Model\n",
    "model.save('face_cnn_model')\n",
    "\n"
   ]
  },
  {
   "cell_type": "code",
   "execution_count": 23,
   "id": "83494eff",
   "metadata": {},
   "outputs": [
    {
     "data": {
      "text/plain": [
       "[array(['Mask', 'Mask_Chin', 'Mask_Mouth_Chin', 'Mask_Nose_Mouth'],\n",
       "       dtype='<U15')]"
      ]
     },
     "execution_count": 23,
     "metadata": {},
     "output_type": "execute_result"
    }
   ],
   "source": [
    "onehot.categories_"
   ]
  },
  {
   "cell_type": "code",
   "execution_count": null,
   "id": "d6ece01a",
   "metadata": {},
   "outputs": [],
   "source": []
  },
  {
   "cell_type": "code",
   "execution_count": null,
   "id": "185f5885",
   "metadata": {},
   "outputs": [],
   "source": []
  },
  {
   "cell_type": "code",
   "execution_count": null,
   "id": "9c6d7add",
   "metadata": {},
   "outputs": [],
   "source": []
  },
  {
   "cell_type": "code",
   "execution_count": null,
   "id": "7b1bcda5",
   "metadata": {},
   "outputs": [],
   "source": []
  },
  {
   "cell_type": "code",
   "execution_count": null,
   "id": "6b348f51",
   "metadata": {},
   "outputs": [],
   "source": []
  },
  {
   "cell_type": "code",
   "execution_count": null,
   "id": "273f6fd1",
   "metadata": {},
   "outputs": [],
   "source": []
  },
  {
   "cell_type": "code",
   "execution_count": null,
   "id": "0884d278",
   "metadata": {},
   "outputs": [],
   "source": []
  },
  {
   "cell_type": "code",
   "execution_count": 24,
   "id": "3518eac8",
   "metadata": {},
   "outputs": [],
   "source": [
    "import pandas as pd\n",
    "import matplotlib.pyplot as plt"
   ]
  },
  {
   "cell_type": "code",
   "execution_count": 25,
   "id": "07b89079",
   "metadata": {},
   "outputs": [],
   "source": [
    "history_df = pd.DataFrame(history.history)"
   ]
  },
  {
   "cell_type": "code",
   "execution_count": 26,
   "id": "2f7eddcf",
   "metadata": {},
   "outputs": [
    {
     "data": {
      "text/html": [
       "<div>\n",
       "<style scoped>\n",
       "    .dataframe tbody tr th:only-of-type {\n",
       "        vertical-align: middle;\n",
       "    }\n",
       "\n",
       "    .dataframe tbody tr th {\n",
       "        vertical-align: top;\n",
       "    }\n",
       "\n",
       "    .dataframe thead th {\n",
       "        text-align: right;\n",
       "    }\n",
       "</style>\n",
       "<table border=\"1\" class=\"dataframe\">\n",
       "  <thead>\n",
       "    <tr style=\"text-align: right;\">\n",
       "      <th></th>\n",
       "      <th>loss</th>\n",
       "      <th>accuracy</th>\n",
       "      <th>val_loss</th>\n",
       "      <th>val_accuracy</th>\n",
       "    </tr>\n",
       "  </thead>\n",
       "  <tbody>\n",
       "    <tr>\n",
       "      <th>0</th>\n",
       "      <td>0.222074</td>\n",
       "      <td>0.921928</td>\n",
       "      <td>0.133552</td>\n",
       "      <td>0.964357</td>\n",
       "    </tr>\n",
       "    <tr>\n",
       "      <th>1</th>\n",
       "      <td>0.069098</td>\n",
       "      <td>0.976905</td>\n",
       "      <td>0.077943</td>\n",
       "      <td>0.974398</td>\n",
       "    </tr>\n",
       "    <tr>\n",
       "      <th>2</th>\n",
       "      <td>0.048641</td>\n",
       "      <td>0.982930</td>\n",
       "      <td>0.055884</td>\n",
       "      <td>0.979418</td>\n",
       "    </tr>\n",
       "    <tr>\n",
       "      <th>3</th>\n",
       "      <td>0.032843</td>\n",
       "      <td>0.988201</td>\n",
       "      <td>0.061356</td>\n",
       "      <td>0.981928</td>\n",
       "    </tr>\n",
       "    <tr>\n",
       "      <th>4</th>\n",
       "      <td>0.019752</td>\n",
       "      <td>0.993599</td>\n",
       "      <td>0.038214</td>\n",
       "      <td>0.988956</td>\n",
       "    </tr>\n",
       "    <tr>\n",
       "      <th>5</th>\n",
       "      <td>0.016673</td>\n",
       "      <td>0.993850</td>\n",
       "      <td>0.043884</td>\n",
       "      <td>0.988454</td>\n",
       "    </tr>\n",
       "    <tr>\n",
       "      <th>6</th>\n",
       "      <td>0.008435</td>\n",
       "      <td>0.997490</td>\n",
       "      <td>0.077116</td>\n",
       "      <td>0.982932</td>\n",
       "    </tr>\n",
       "    <tr>\n",
       "      <th>7</th>\n",
       "      <td>0.018477</td>\n",
       "      <td>0.994603</td>\n",
       "      <td>0.044072</td>\n",
       "      <td>0.984438</td>\n",
       "    </tr>\n",
       "    <tr>\n",
       "      <th>8</th>\n",
       "      <td>0.014977</td>\n",
       "      <td>0.995481</td>\n",
       "      <td>0.054618</td>\n",
       "      <td>0.986446</td>\n",
       "    </tr>\n",
       "    <tr>\n",
       "      <th>9</th>\n",
       "      <td>0.001959</td>\n",
       "      <td>0.999623</td>\n",
       "      <td>0.042372</td>\n",
       "      <td>0.989960</td>\n",
       "    </tr>\n",
       "    <tr>\n",
       "      <th>10</th>\n",
       "      <td>0.008099</td>\n",
       "      <td>0.997866</td>\n",
       "      <td>0.059366</td>\n",
       "      <td>0.986948</td>\n",
       "    </tr>\n",
       "    <tr>\n",
       "      <th>11</th>\n",
       "      <td>0.012562</td>\n",
       "      <td>0.995983</td>\n",
       "      <td>0.094517</td>\n",
       "      <td>0.977410</td>\n",
       "    </tr>\n",
       "    <tr>\n",
       "      <th>12</th>\n",
       "      <td>0.005606</td>\n",
       "      <td>0.997741</td>\n",
       "      <td>0.061583</td>\n",
       "      <td>0.982430</td>\n",
       "    </tr>\n",
       "    <tr>\n",
       "      <th>13</th>\n",
       "      <td>0.000402</td>\n",
       "      <td>1.000000</td>\n",
       "      <td>0.065472</td>\n",
       "      <td>0.989458</td>\n",
       "    </tr>\n",
       "    <tr>\n",
       "      <th>14</th>\n",
       "      <td>0.000045</td>\n",
       "      <td>1.000000</td>\n",
       "      <td>0.066825</td>\n",
       "      <td>0.988454</td>\n",
       "    </tr>\n",
       "    <tr>\n",
       "      <th>15</th>\n",
       "      <td>0.000026</td>\n",
       "      <td>1.000000</td>\n",
       "      <td>0.069091</td>\n",
       "      <td>0.988956</td>\n",
       "    </tr>\n",
       "    <tr>\n",
       "      <th>16</th>\n",
       "      <td>0.000020</td>\n",
       "      <td>1.000000</td>\n",
       "      <td>0.070991</td>\n",
       "      <td>0.988956</td>\n",
       "    </tr>\n",
       "    <tr>\n",
       "      <th>17</th>\n",
       "      <td>0.000015</td>\n",
       "      <td>1.000000</td>\n",
       "      <td>0.072661</td>\n",
       "      <td>0.988956</td>\n",
       "    </tr>\n",
       "    <tr>\n",
       "      <th>18</th>\n",
       "      <td>0.000012</td>\n",
       "      <td>1.000000</td>\n",
       "      <td>0.074534</td>\n",
       "      <td>0.988956</td>\n",
       "    </tr>\n",
       "    <tr>\n",
       "      <th>19</th>\n",
       "      <td>0.000010</td>\n",
       "      <td>1.000000</td>\n",
       "      <td>0.075700</td>\n",
       "      <td>0.988956</td>\n",
       "    </tr>\n",
       "  </tbody>\n",
       "</table>\n",
       "</div>"
      ],
      "text/plain": [
       "        loss  accuracy  val_loss  val_accuracy\n",
       "0   0.222074  0.921928  0.133552      0.964357\n",
       "1   0.069098  0.976905  0.077943      0.974398\n",
       "2   0.048641  0.982930  0.055884      0.979418\n",
       "3   0.032843  0.988201  0.061356      0.981928\n",
       "4   0.019752  0.993599  0.038214      0.988956\n",
       "5   0.016673  0.993850  0.043884      0.988454\n",
       "6   0.008435  0.997490  0.077116      0.982932\n",
       "7   0.018477  0.994603  0.044072      0.984438\n",
       "8   0.014977  0.995481  0.054618      0.986446\n",
       "9   0.001959  0.999623  0.042372      0.989960\n",
       "10  0.008099  0.997866  0.059366      0.986948\n",
       "11  0.012562  0.995983  0.094517      0.977410\n",
       "12  0.005606  0.997741  0.061583      0.982430\n",
       "13  0.000402  1.000000  0.065472      0.989458\n",
       "14  0.000045  1.000000  0.066825      0.988454\n",
       "15  0.000026  1.000000  0.069091      0.988956\n",
       "16  0.000020  1.000000  0.070991      0.988956\n",
       "17  0.000015  1.000000  0.072661      0.988956\n",
       "18  0.000012  1.000000  0.074534      0.988956\n",
       "19  0.000010  1.000000  0.075700      0.988956"
      ]
     },
     "execution_count": 26,
     "metadata": {},
     "output_type": "execute_result"
    }
   ],
   "source": [
    "history_df"
   ]
  },
  {
   "cell_type": "code",
   "execution_count": 27,
   "id": "9fa0aead",
   "metadata": {},
   "outputs": [
    {
     "data": {
      "image/png": "[encoded data removed]",
      "text/plain": [
       "<Figure size 432x288 with 1 Axes>"
      ]
     },
     "metadata": {
      "needs_background": "light"
     },
     "output_type": "display_data"
    }
   ],
   "source": [
    "history_df[['loss','val_loss']].plot(kind='line')\n",
    "plt.xlabel('Epochs')\n",
    "plt.ylabel('Loss')\n",
    "plt.xticks(list(range(10)),list(range(1,11)))\n",
    "plt.show()"
   ]
  },
  {
   "cell_type": "code",
   "execution_count": 28,
   "id": "1b733294",
   "metadata": {},
   "outputs": [
    {
     "data": {
      "image/png": "[encoded data removed]",
      "text/plain": [
       "<Figure size 432x288 with 1 Axes>"
      ]
     },
     "metadata": {
      "needs_background": "light"
     },
     "output_type": "display_data"
    }
   ],
   "source": [
    "history_df[['accuracy','val_accuracy']].plot(kind='line')\n",
    "plt.xlabel('Epochs')\n",
    "plt.ylabel('Accuracy')\n",
    "plt.xticks(list(range(10)),list(range(1,11)))\n",
    "plt.show()"
   ]
  },
  {
   "cell_type": "code",
   "execution_count": 29,
   "id": "6365b96c",
   "metadata": {},
   "outputs": [
    {
     "name": "stdout",
     "output_type": "stream",
     "text": [
      "INFO:tensorflow:Assets written to: face_cnn_model\\assets\n"
     ]
    }
   ],
   "source": [
    "# Save CNN Model\n",
    "model.save('face_cnn_model')"
   ]
  },
  {
   "cell_type": "code",
   "execution_count": 30,
   "id": "7bfff713",
   "metadata": {},
   "outputs": [
    {
     "data": {
      "text/plain": [
       "[array(['Mask', 'Mask_Chin', 'Mask_Mouth_Chin', 'Mask_Nose_Mouth'],\n",
       "       dtype='<U15')]"
      ]
     },
     "execution_count": 30,
     "metadata": {},
     "output_type": "execute_result"
    }
   ],
   "source": [
    "onehot.categories_"
   ]
  },
  {
   "cell_type": "code",
   "execution_count": null,
   "id": "81ee1689",
   "metadata": {},
   "outputs": [],
   "source": []
  },
  {
   "cell_type": "code",
   "execution_count": null,
   "id": "b9a4a0b1",
   "metadata": {},
   "outputs": [],
   "source": []
  },
  {
   "cell_type": "code",
   "execution_count": null,
   "id": "643fe848",
   "metadata": {},
   "outputs": [],
   "source": []
  }
 ],
 "metadata": {
  "kernelspec": {
   "display_name": "Python 3 (ipykernel)",
   "language": "python",
   "name": "python3"
  },
  "language_info": {
   "codemirror_mode": {
    "name": "ipython",
    "version": 3
   },
   "file_extension": ".py",
   "mimetype": "text/x-python",
   "name": "python",
   "nbconvert_exporter": "python",
   "pygments_lexer": "ipython3",
   "version": "3.9.6"
  }
 },
 "nbformat": 4,
 "nbformat_minor": 5
}
